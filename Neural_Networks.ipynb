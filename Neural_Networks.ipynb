{
 "cells": [
  {
   "cell_type": "markdown",
   "metadata": {},
   "source": [
    "## Neural Network"
   ]
  },
  {
   "cell_type": "markdown",
   "metadata": {
    "colab_type": "text",
    "id": "5TGIzRhRq7V8"
   },
   "source": [
    "**Visualizing the difference in distribution between diabetics and non-diabetics with separate plots using seaborn. Creating a subplot of 3 X 3 and plotting a density plot for each variable.**"
   ]
  },
  {
   "cell_type": "code",
   "execution_count": 1,
   "metadata": {
    "colab": {},
    "colab_type": "code",
    "id": "egipsr9e2C0C"
   },
   "outputs": [],
   "source": [
    "import pandas as pd\n",
    "df = pd.read_csv('diabetes2.csv')"
   ]
  },
  {
   "cell_type": "code",
   "execution_count": 2,
   "metadata": {
    "colab": {
     "base_uri": "https://localhost:8080/",
     "height": 200
    },
    "colab_type": "code",
    "id": "t4Js1hyBRbDi",
    "outputId": "ab9abfce-fb5f-42ec-a648-d7310b83d1ef"
   },
   "outputs": [
    {
     "data": {
      "text/html": [
       "<div>\n",
       "<style scoped>\n",
       "    .dataframe tbody tr th:only-of-type {\n",
       "        vertical-align: middle;\n",
       "    }\n",
       "\n",
       "    .dataframe tbody tr th {\n",
       "        vertical-align: top;\n",
       "    }\n",
       "\n",
       "    .dataframe thead th {\n",
       "        text-align: right;\n",
       "    }\n",
       "</style>\n",
       "<table border=\"1\" class=\"dataframe\">\n",
       "  <thead>\n",
       "    <tr style=\"text-align: right;\">\n",
       "      <th></th>\n",
       "      <th>Pregnancies</th>\n",
       "      <th>Glucose</th>\n",
       "      <th>BloodPressure</th>\n",
       "      <th>SkinThickness</th>\n",
       "      <th>Insulin</th>\n",
       "      <th>BMI</th>\n",
       "      <th>DiabetesPedigreeFunction</th>\n",
       "      <th>Age</th>\n",
       "      <th>Outcome</th>\n",
       "    </tr>\n",
       "  </thead>\n",
       "  <tbody>\n",
       "    <tr>\n",
       "      <th>0</th>\n",
       "      <td>6</td>\n",
       "      <td>148</td>\n",
       "      <td>72</td>\n",
       "      <td>35</td>\n",
       "      <td>0</td>\n",
       "      <td>33.6</td>\n",
       "      <td>0.627</td>\n",
       "      <td>50</td>\n",
       "      <td>1</td>\n",
       "    </tr>\n",
       "    <tr>\n",
       "      <th>1</th>\n",
       "      <td>1</td>\n",
       "      <td>85</td>\n",
       "      <td>66</td>\n",
       "      <td>29</td>\n",
       "      <td>0</td>\n",
       "      <td>26.6</td>\n",
       "      <td>0.351</td>\n",
       "      <td>31</td>\n",
       "      <td>0</td>\n",
       "    </tr>\n",
       "    <tr>\n",
       "      <th>2</th>\n",
       "      <td>8</td>\n",
       "      <td>183</td>\n",
       "      <td>64</td>\n",
       "      <td>0</td>\n",
       "      <td>0</td>\n",
       "      <td>23.3</td>\n",
       "      <td>0.672</td>\n",
       "      <td>32</td>\n",
       "      <td>1</td>\n",
       "    </tr>\n",
       "    <tr>\n",
       "      <th>3</th>\n",
       "      <td>1</td>\n",
       "      <td>89</td>\n",
       "      <td>66</td>\n",
       "      <td>23</td>\n",
       "      <td>94</td>\n",
       "      <td>28.1</td>\n",
       "      <td>0.167</td>\n",
       "      <td>21</td>\n",
       "      <td>0</td>\n",
       "    </tr>\n",
       "    <tr>\n",
       "      <th>4</th>\n",
       "      <td>0</td>\n",
       "      <td>137</td>\n",
       "      <td>40</td>\n",
       "      <td>35</td>\n",
       "      <td>168</td>\n",
       "      <td>43.1</td>\n",
       "      <td>2.288</td>\n",
       "      <td>33</td>\n",
       "      <td>1</td>\n",
       "    </tr>\n",
       "  </tbody>\n",
       "</table>\n",
       "</div>"
      ],
      "text/plain": [
       "   Pregnancies  Glucose  BloodPressure  SkinThickness  Insulin   BMI  \\\n",
       "0            6      148             72             35        0  33.6   \n",
       "1            1       85             66             29        0  26.6   \n",
       "2            8      183             64              0        0  23.3   \n",
       "3            1       89             66             23       94  28.1   \n",
       "4            0      137             40             35      168  43.1   \n",
       "\n",
       "   DiabetesPedigreeFunction  Age  Outcome  \n",
       "0                     0.627   50        1  \n",
       "1                     0.351   31        0  \n",
       "2                     0.672   32        1  \n",
       "3                     0.167   21        0  \n",
       "4                     2.288   33        1  "
      ]
     },
     "execution_count": 2,
     "metadata": {},
     "output_type": "execute_result"
    }
   ],
   "source": [
    "df.head()"
   ]
  },
  {
   "cell_type": "code",
   "execution_count": 3,
   "metadata": {
    "colab": {
     "base_uri": "https://localhost:8080/",
     "height": 784
    },
    "colab_type": "code",
    "id": "9edTiC2qTFp5",
    "outputId": "13d02e04-25b0-4977-f46c-98bfac5ae3a7"
   },
   "outputs": [
    {
     "data": {
      "text/plain": [
       "array([[<matplotlib.axes._subplots.AxesSubplot object at 0x000001C9A68BE940>,\n",
       "        <matplotlib.axes._subplots.AxesSubplot object at 0x000001C9A2D5FFD0>,\n",
       "        <matplotlib.axes._subplots.AxesSubplot object at 0x000001C9A6BBD748>],\n",
       "       [<matplotlib.axes._subplots.AxesSubplot object at 0x000001C9A6BEDCF8>,\n",
       "        <matplotlib.axes._subplots.AxesSubplot object at 0x000001C9A6C2B2E8>,\n",
       "        <matplotlib.axes._subplots.AxesSubplot object at 0x000001C9A6C59898>],\n",
       "       [<matplotlib.axes._subplots.AxesSubplot object at 0x000001C9A6C8BE48>,\n",
       "        <matplotlib.axes._subplots.AxesSubplot object at 0x000001C9A6CC9470>,\n",
       "        <matplotlib.axes._subplots.AxesSubplot object at 0x000001C9A6CC94A8>]],\n",
       "      dtype=object)"
      ]
     },
     "execution_count": 3,
     "metadata": {},
     "output_type": "execute_result"
    }
   ],
   "source": [
    "from matplotlib import pyplot as plt \n",
    "\n",
    "df.hist(figsize=(15, 10))"
   ]
  },
  {
   "cell_type": "code",
   "execution_count": 4,
   "metadata": {
    "colab": {
     "base_uri": "https://localhost:8080/",
     "height": 1000
    },
    "colab_type": "code",
    "id": "a0NiV-qvToO0",
    "outputId": "dcd82e9e-b0a4-43f7-a862-8ee7a1a0e250"
   },
   "outputs": [
    {
     "name": "stderr",
     "output_type": "stream",
     "text": [
      "D:\\Python\\lib\\site-packages\\statsmodels\\nonparametric\\kde.py:487: RuntimeWarning: invalid value encountered in true_divide\n",
      "  binned = fast_linbin(X, a, b, gridsize) / (delta * nobs)\n",
      "D:\\Python\\lib\\site-packages\\statsmodels\\nonparametric\\kdetools.py:34: RuntimeWarning: invalid value encountered in double_scalars\n",
      "  FAC1 = 2*(np.pi*bw/RANGE)**2\n",
      "D:\\Python\\lib\\site-packages\\ipykernel_launcher.py:19: MatplotlibDeprecationWarning: Adding an axes using the same arguments as a previous axes currently reuses the earlier instance.  In a future version, a new instance will always be created and returned.  Meanwhile, this warning can be suppressed, and the future behavior ensured, by passing a unique label to each axes instance.\n"
     ]
    },
    {
     "data": {
      "image/png": "[encoded data removed]",
      "text/plain": [
       "<Figure size 1080x1080 with 9 Axes>"
      ]
     },
     "metadata": {
      "needs_background": "light"
     },
     "output_type": "display_data"
    }
   ],
   "source": [
    "import seaborn as sns\n",
    "\n",
    "# creating a subplot of 3 x 3\n",
    "plt.subplots(3,3,figsize=(15,15))\n",
    "\n",
    "# Plot a density plot for each variable\n",
    "for idx, col in enumerate(df.columns):\n",
    "    ax = plt.subplot(3,3,idx+1)\n",
    "    ax.yaxis.set_ticklabels([])\n",
    "    sns.distplot(df.loc[df.Outcome == 0][col], hist=False, axlabel= False, \n",
    "    kde_kws={'linestyle':'-',  \n",
    "    'color':'black', 'label':'No Diabetes'})\n",
    "    sns.distplot(df.loc[df.Outcome == 1][col], hist=False, axlabel= False, \n",
    "    kde_kws={'linestyle':'--', \n",
    "    'color':'black', 'label':'Diabetes'})\n",
    "    ax.set_title(col)\n",
    "\n",
    "# Hiding the 9th subplot (bottom right)\n",
    "plt.subplot(3,3,9).set_visible(False)\n",
    "\n",
    "plt.show()"
   ]
  },
  {
   "cell_type": "markdown",
   "metadata": {
    "colab_type": "text",
    "id": "uYVJhjYM7nZJ"
   },
   "source": [
    "**Checking the data (null data and number of rows with 0 for each variable). <br>\n",
    "Replacing the zero values with NaN.<br>\n",
    "Replacing the NaN values with the mean of the non-missing values**"
   ]
  },
  {
   "cell_type": "code",
   "execution_count": 5,
   "metadata": {
    "colab": {
     "base_uri": "https://localhost:8080/",
     "height": 195
    },
    "colab_type": "code",
    "id": "scqbWBy1ZOoT",
    "outputId": "0d98015e-041c-4bc5-aeea-5ea4c0739330"
   },
   "outputs": [
    {
     "name": "stdout",
     "output_type": "stream",
     "text": [
      "Number of rows with 0 values for each variable\n",
      "Pregnancies: 111\n",
      "Glucose: 5\n",
      "BloodPressure: 35\n",
      "SkinThickness: 227\n",
      "Insulin: 374\n",
      "BMI: 11\n",
      "DiabetesPedigreeFunction: 0\n",
      "Age: 0\n",
      "Outcome: 500\n"
     ]
    }
   ],
   "source": [
    "print('Number of rows with 0 values for each variable')\n",
    "for col in df.columns:\n",
    "    missing_rows = df.loc[df[col]==0].shape[0]\n",
    "    print(col + ': ' + str(missing_rows))"
   ]
  },
  {
   "cell_type": "code",
   "execution_count": 6,
   "metadata": {
    "colab": {},
    "colab_type": "code",
    "id": "yU5DfyxmBwg8"
   },
   "outputs": [],
   "source": [
    "import numpy as np\n",
    "\n",
    "df['Glucose'] = df['Glucose'].replace(0, np.nan)\n",
    "df['BloodPressure'] = df['BloodPressure'].replace(0, np.nan)\n",
    "df['SkinThickness'] = df['SkinThickness'].replace(0, np.nan)\n",
    "df['Insulin'] = df['Insulin'].replace(0, np.nan)\n",
    "df['BMI'] = df['BMI'].replace(0, np.nan)"
   ]
  },
  {
   "cell_type": "code",
   "execution_count": 7,
   "metadata": {
    "colab": {
     "base_uri": "https://localhost:8080/",
     "height": 200
    },
    "colab_type": "code",
    "id": "mNV7TzgZB0Nj",
    "outputId": "af69ec57-829b-4b19-84fa-ca3241d1fb78"
   },
   "outputs": [
    {
     "data": {
      "text/html": [
       "<div>\n",
       "<style scoped>\n",
       "    .dataframe tbody tr th:only-of-type {\n",
       "        vertical-align: middle;\n",
       "    }\n",
       "\n",
       "    .dataframe tbody tr th {\n",
       "        vertical-align: top;\n",
       "    }\n",
       "\n",
       "    .dataframe thead th {\n",
       "        text-align: right;\n",
       "    }\n",
       "</style>\n",
       "<table border=\"1\" class=\"dataframe\">\n",
       "  <thead>\n",
       "    <tr style=\"text-align: right;\">\n",
       "      <th></th>\n",
       "      <th>Pregnancies</th>\n",
       "      <th>Glucose</th>\n",
       "      <th>BloodPressure</th>\n",
       "      <th>SkinThickness</th>\n",
       "      <th>Insulin</th>\n",
       "      <th>BMI</th>\n",
       "      <th>DiabetesPedigreeFunction</th>\n",
       "      <th>Age</th>\n",
       "      <th>Outcome</th>\n",
       "    </tr>\n",
       "  </thead>\n",
       "  <tbody>\n",
       "    <tr>\n",
       "      <th>0</th>\n",
       "      <td>6</td>\n",
       "      <td>148.0</td>\n",
       "      <td>72.0</td>\n",
       "      <td>35.0</td>\n",
       "      <td>NaN</td>\n",
       "      <td>33.6</td>\n",
       "      <td>0.627</td>\n",
       "      <td>50</td>\n",
       "      <td>1</td>\n",
       "    </tr>\n",
       "    <tr>\n",
       "      <th>1</th>\n",
       "      <td>1</td>\n",
       "      <td>85.0</td>\n",
       "      <td>66.0</td>\n",
       "      <td>29.0</td>\n",
       "      <td>NaN</td>\n",
       "      <td>26.6</td>\n",
       "      <td>0.351</td>\n",
       "      <td>31</td>\n",
       "      <td>0</td>\n",
       "    </tr>\n",
       "    <tr>\n",
       "      <th>2</th>\n",
       "      <td>8</td>\n",
       "      <td>183.0</td>\n",
       "      <td>64.0</td>\n",
       "      <td>NaN</td>\n",
       "      <td>NaN</td>\n",
       "      <td>23.3</td>\n",
       "      <td>0.672</td>\n",
       "      <td>32</td>\n",
       "      <td>1</td>\n",
       "    </tr>\n",
       "    <tr>\n",
       "      <th>3</th>\n",
       "      <td>1</td>\n",
       "      <td>89.0</td>\n",
       "      <td>66.0</td>\n",
       "      <td>23.0</td>\n",
       "      <td>94.0</td>\n",
       "      <td>28.1</td>\n",
       "      <td>0.167</td>\n",
       "      <td>21</td>\n",
       "      <td>0</td>\n",
       "    </tr>\n",
       "    <tr>\n",
       "      <th>4</th>\n",
       "      <td>0</td>\n",
       "      <td>137.0</td>\n",
       "      <td>40.0</td>\n",
       "      <td>35.0</td>\n",
       "      <td>168.0</td>\n",
       "      <td>43.1</td>\n",
       "      <td>2.288</td>\n",
       "      <td>33</td>\n",
       "      <td>1</td>\n",
       "    </tr>\n",
       "  </tbody>\n",
       "</table>\n",
       "</div>"
      ],
      "text/plain": [
       "   Pregnancies  Glucose  BloodPressure  SkinThickness  Insulin   BMI  \\\n",
       "0            6    148.0           72.0           35.0      NaN  33.6   \n",
       "1            1     85.0           66.0           29.0      NaN  26.6   \n",
       "2            8    183.0           64.0            NaN      NaN  23.3   \n",
       "3            1     89.0           66.0           23.0     94.0  28.1   \n",
       "4            0    137.0           40.0           35.0    168.0  43.1   \n",
       "\n",
       "   DiabetesPedigreeFunction  Age  Outcome  \n",
       "0                     0.627   50        1  \n",
       "1                     0.351   31        0  \n",
       "2                     0.672   32        1  \n",
       "3                     0.167   21        0  \n",
       "4                     2.288   33        1  "
      ]
     },
     "execution_count": 7,
     "metadata": {},
     "output_type": "execute_result"
    }
   ],
   "source": [
    "df.head()"
   ]
  },
  {
   "cell_type": "code",
   "execution_count": 8,
   "metadata": {
    "colab": {
     "base_uri": "https://localhost:8080/",
     "height": 195
    },
    "colab_type": "code",
    "id": "aibaL3kPCDgv",
    "outputId": "ce1c79eb-eeb6-4bc9-c112-7bf08f9fc9a9"
   },
   "outputs": [
    {
     "name": "stdout",
     "output_type": "stream",
     "text": [
      "Number of rows with 0 values for each variable\n",
      "Pregnancies: 111\n",
      "Glucose: 0\n",
      "BloodPressure: 0\n",
      "SkinThickness: 0\n",
      "Insulin: 0\n",
      "BMI: 0\n",
      "DiabetesPedigreeFunction: 0\n",
      "Age: 0\n",
      "Outcome: 500\n"
     ]
    }
   ],
   "source": [
    "print('Number of rows with 0 values for each variable')\n",
    "for col in df.columns:\n",
    "    missing_rows = df.loc[df[col]==0].shape[0]\n",
    "    print(col + ': ' + str(missing_rows))"
   ]
  },
  {
   "cell_type": "markdown",
   "metadata": {
    "colab_type": "text",
    "id": "1l1xLdl-Cslk"
   },
   "source": [
    "Not editing the 'Pregnancies' column as having a 0 value is valid."
   ]
  },
  {
   "cell_type": "code",
   "execution_count": 9,
   "metadata": {
    "colab": {},
    "colab_type": "code",
    "id": "uBY6Pix-ZRHf"
   },
   "outputs": [],
   "source": [
    "df['Glucose'] = df['Glucose'].fillna(df['Glucose'].mean())\n",
    "df['BloodPressure'] = df['BloodPressure'].fillna(df['BloodPressure'].mean())\n",
    "df['SkinThickness'] = df['SkinThickness'].fillna(df['SkinThickness'].mean())\n",
    "df['Insulin'] = df['Insulin'].fillna(df['Insulin'].mean())\n",
    "df['BMI'] = df['BMI'].fillna(df['BMI'].mean())"
   ]
  },
  {
   "cell_type": "code",
   "execution_count": 10,
   "metadata": {
    "colab": {
     "base_uri": "https://localhost:8080/",
     "height": 200
    },
    "colab_type": "code",
    "id": "D1MfrQoQ-eSP",
    "outputId": "20df623f-e019-4685-9315-7e081fe41b8b"
   },
   "outputs": [
    {
     "data": {
      "text/html": [
       "<div>\n",
       "<style scoped>\n",
       "    .dataframe tbody tr th:only-of-type {\n",
       "        vertical-align: middle;\n",
       "    }\n",
       "\n",
       "    .dataframe tbody tr th {\n",
       "        vertical-align: top;\n",
       "    }\n",
       "\n",
       "    .dataframe thead th {\n",
       "        text-align: right;\n",
       "    }\n",
       "</style>\n",
       "<table border=\"1\" class=\"dataframe\">\n",
       "  <thead>\n",
       "    <tr style=\"text-align: right;\">\n",
       "      <th></th>\n",
       "      <th>Pregnancies</th>\n",
       "      <th>Glucose</th>\n",
       "      <th>BloodPressure</th>\n",
       "      <th>SkinThickness</th>\n",
       "      <th>Insulin</th>\n",
       "      <th>BMI</th>\n",
       "      <th>DiabetesPedigreeFunction</th>\n",
       "      <th>Age</th>\n",
       "      <th>Outcome</th>\n",
       "    </tr>\n",
       "  </thead>\n",
       "  <tbody>\n",
       "    <tr>\n",
       "      <th>0</th>\n",
       "      <td>6</td>\n",
       "      <td>148.0</td>\n",
       "      <td>72.0</td>\n",
       "      <td>35.00000</td>\n",
       "      <td>155.548223</td>\n",
       "      <td>33.6</td>\n",
       "      <td>0.627</td>\n",
       "      <td>50</td>\n",
       "      <td>1</td>\n",
       "    </tr>\n",
       "    <tr>\n",
       "      <th>1</th>\n",
       "      <td>1</td>\n",
       "      <td>85.0</td>\n",
       "      <td>66.0</td>\n",
       "      <td>29.00000</td>\n",
       "      <td>155.548223</td>\n",
       "      <td>26.6</td>\n",
       "      <td>0.351</td>\n",
       "      <td>31</td>\n",
       "      <td>0</td>\n",
       "    </tr>\n",
       "    <tr>\n",
       "      <th>2</th>\n",
       "      <td>8</td>\n",
       "      <td>183.0</td>\n",
       "      <td>64.0</td>\n",
       "      <td>29.15342</td>\n",
       "      <td>155.548223</td>\n",
       "      <td>23.3</td>\n",
       "      <td>0.672</td>\n",
       "      <td>32</td>\n",
       "      <td>1</td>\n",
       "    </tr>\n",
       "    <tr>\n",
       "      <th>3</th>\n",
       "      <td>1</td>\n",
       "      <td>89.0</td>\n",
       "      <td>66.0</td>\n",
       "      <td>23.00000</td>\n",
       "      <td>94.000000</td>\n",
       "      <td>28.1</td>\n",
       "      <td>0.167</td>\n",
       "      <td>21</td>\n",
       "      <td>0</td>\n",
       "    </tr>\n",
       "    <tr>\n",
       "      <th>4</th>\n",
       "      <td>0</td>\n",
       "      <td>137.0</td>\n",
       "      <td>40.0</td>\n",
       "      <td>35.00000</td>\n",
       "      <td>168.000000</td>\n",
       "      <td>43.1</td>\n",
       "      <td>2.288</td>\n",
       "      <td>33</td>\n",
       "      <td>1</td>\n",
       "    </tr>\n",
       "  </tbody>\n",
       "</table>\n",
       "</div>"
      ],
      "text/plain": [
       "   Pregnancies  Glucose  BloodPressure  SkinThickness     Insulin   BMI  \\\n",
       "0            6    148.0           72.0       35.00000  155.548223  33.6   \n",
       "1            1     85.0           66.0       29.00000  155.548223  26.6   \n",
       "2            8    183.0           64.0       29.15342  155.548223  23.3   \n",
       "3            1     89.0           66.0       23.00000   94.000000  28.1   \n",
       "4            0    137.0           40.0       35.00000  168.000000  43.1   \n",
       "\n",
       "   DiabetesPedigreeFunction  Age  Outcome  \n",
       "0                     0.627   50        1  \n",
       "1                     0.351   31        0  \n",
       "2                     0.672   32        1  \n",
       "3                     0.167   21        0  \n",
       "4                     2.288   33        1  "
      ]
     },
     "execution_count": 10,
     "metadata": {},
     "output_type": "execute_result"
    }
   ],
   "source": [
    "df.head()"
   ]
  },
  {
   "cell_type": "markdown",
   "metadata": {
    "colab_type": "text",
    "id": "5FhiJ5mv7yaK"
   },
   "source": [
    "**Standardizing the data.**"
   ]
  },
  {
   "cell_type": "code",
   "execution_count": 11,
   "metadata": {
    "colab": {},
    "colab_type": "code",
    "id": "8tNxqUrOZUSp"
   },
   "outputs": [],
   "source": [
    "from sklearn import preprocessing"
   ]
  },
  {
   "cell_type": "code",
   "execution_count": 12,
   "metadata": {
    "colab": {},
    "colab_type": "code",
    "id": "ccZxHwY2ZY1i"
   },
   "outputs": [],
   "source": [
    "df_scaled = preprocessing.scale(df)\n",
    "df_scaled = pd.DataFrame(df_scaled, columns=df.columns)"
   ]
  },
  {
   "cell_type": "code",
   "execution_count": 13,
   "metadata": {
    "colab": {},
    "colab_type": "code",
    "id": "Bkgdsw8FZdGq"
   },
   "outputs": [],
   "source": [
    "df_scaled['Outcome'] = df['Outcome']\n",
    "df = df_scaled"
   ]
  },
  {
   "cell_type": "code",
   "execution_count": 14,
   "metadata": {
    "colab": {
     "base_uri": "https://localhost:8080/",
     "height": 139
    },
    "colab_type": "code",
    "id": "U9TYK4SxZeyY",
    "outputId": "098d51b7-d8fc-454f-90a2-3fe080d38008"
   },
   "outputs": [
    {
     "data": {
      "text/html": [
       "<div>\n",
       "<style scoped>\n",
       "    .dataframe tbody tr th:only-of-type {\n",
       "        vertical-align: middle;\n",
       "    }\n",
       "\n",
       "    .dataframe tbody tr th {\n",
       "        vertical-align: top;\n",
       "    }\n",
       "\n",
       "    .dataframe thead th {\n",
       "        text-align: right;\n",
       "    }\n",
       "</style>\n",
       "<table border=\"1\" class=\"dataframe\">\n",
       "  <thead>\n",
       "    <tr style=\"text-align: right;\">\n",
       "      <th></th>\n",
       "      <th>Pregnancies</th>\n",
       "      <th>Glucose</th>\n",
       "      <th>BloodPressure</th>\n",
       "      <th>SkinThickness</th>\n",
       "      <th>Insulin</th>\n",
       "      <th>BMI</th>\n",
       "      <th>DiabetesPedigreeFunction</th>\n",
       "      <th>Age</th>\n",
       "      <th>Outcome</th>\n",
       "    </tr>\n",
       "  </thead>\n",
       "  <tbody>\n",
       "    <tr>\n",
       "      <th>mean</th>\n",
       "      <td>0.00</td>\n",
       "      <td>0.00</td>\n",
       "      <td>0.0</td>\n",
       "      <td>0.00</td>\n",
       "      <td>0.00</td>\n",
       "      <td>0.00</td>\n",
       "      <td>0.00</td>\n",
       "      <td>0.00</td>\n",
       "      <td>0.35</td>\n",
       "    </tr>\n",
       "    <tr>\n",
       "      <th>std</th>\n",
       "      <td>1.00</td>\n",
       "      <td>1.00</td>\n",
       "      <td>1.0</td>\n",
       "      <td>1.00</td>\n",
       "      <td>1.00</td>\n",
       "      <td>1.00</td>\n",
       "      <td>1.00</td>\n",
       "      <td>1.00</td>\n",
       "      <td>0.48</td>\n",
       "    </tr>\n",
       "    <tr>\n",
       "      <th>max</th>\n",
       "      <td>3.91</td>\n",
       "      <td>2.54</td>\n",
       "      <td>4.1</td>\n",
       "      <td>7.95</td>\n",
       "      <td>8.13</td>\n",
       "      <td>5.04</td>\n",
       "      <td>5.88</td>\n",
       "      <td>4.06</td>\n",
       "      <td>1.00</td>\n",
       "    </tr>\n",
       "  </tbody>\n",
       "</table>\n",
       "</div>"
      ],
      "text/plain": [
       "      Pregnancies  Glucose  BloodPressure  SkinThickness  Insulin   BMI  \\\n",
       "mean         0.00     0.00            0.0           0.00     0.00  0.00   \n",
       "std          1.00     1.00            1.0           1.00     1.00  1.00   \n",
       "max          3.91     2.54            4.1           7.95     8.13  5.04   \n",
       "\n",
       "      DiabetesPedigreeFunction   Age  Outcome  \n",
       "mean                      0.00  0.00     0.35  \n",
       "std                       1.00  1.00     0.48  \n",
       "max                       5.88  4.06     1.00  "
      ]
     },
     "execution_count": 14,
     "metadata": {},
     "output_type": "execute_result"
    }
   ],
   "source": [
    "df.describe().loc[['mean', 'std','max'],].round(2).abs()"
   ]
  },
  {
   "cell_type": "markdown",
   "metadata": {
    "colab_type": "text",
    "id": "4foHIxvOZiVn"
   },
   "source": [
    "**Creating a train and test set (80/20).**"
   ]
  },
  {
   "cell_type": "code",
   "execution_count": 15,
   "metadata": {
    "colab": {},
    "colab_type": "code",
    "id": "nKF2Ms-tZhGo"
   },
   "outputs": [],
   "source": [
    "from sklearn.model_selection import train_test_split\n",
    "\n",
    "X = df.loc[:, df.columns != 'Outcome']\n",
    "y = df.loc[:, 'Outcome']"
   ]
  },
  {
   "cell_type": "code",
   "execution_count": 16,
   "metadata": {
    "colab": {},
    "colab_type": "code",
    "id": "EDqyMql8ZnQc"
   },
   "outputs": [],
   "source": [
    "X_train, X_test, y_train, y_test = train_test_split(X, y, test_size=0.2)"
   ]
  },
  {
   "cell_type": "markdown",
   "metadata": {
    "colab_type": "text",
    "id": "4n5QrrwJZyD-"
   },
   "source": [
    "**Using the sequential class from Keras to build the MLP. Adding two hidden layers (with the respective node values of 32 and 16, ‘relu’ activation) and one hidden layer (‘sigmoid’ activation for output layer). Using ‘adam’ optimizer and ‘binary crossentropy’ loss.**"
   ]
  },
  {
   "cell_type": "code",
   "execution_count": 17,
   "metadata": {
    "colab": {
     "base_uri": "https://localhost:8080/",
     "height": 35
    },
    "colab_type": "code",
    "id": "JYSi9cjLZw8w",
    "outputId": "d01a9242-c908-4fc9-ad26-05b682a667c9"
   },
   "outputs": [
    {
     "name": "stderr",
     "output_type": "stream",
     "text": [
      "Using TensorFlow backend.\n"
     ]
    }
   ],
   "source": [
    "from keras.models import Sequential\n",
    "model = Sequential()"
   ]
  },
  {
   "cell_type": "code",
   "execution_count": 18,
   "metadata": {
    "colab": {},
    "colab_type": "code",
    "id": "dyXIog2taARO"
   },
   "outputs": [],
   "source": [
    "from keras.layers import Dense\n",
    "# Add the first hidden layer\n",
    "model.add(Dense(32, activation='relu', input_dim=8))"
   ]
  },
  {
   "cell_type": "code",
   "execution_count": 19,
   "metadata": {
    "colab": {},
    "colab_type": "code",
    "id": "kPh5cA_kaDv2"
   },
   "outputs": [],
   "source": [
    "# Add the second hidden layer\n",
    "model.add(Dense(16, activation='relu'))"
   ]
  },
  {
   "cell_type": "code",
   "execution_count": 20,
   "metadata": {
    "colab": {},
    "colab_type": "code",
    "id": "Pa-JE0ZuaHiP"
   },
   "outputs": [],
   "source": [
    "# Add the output layer\n",
    "model.add(Dense(1, activation='sigmoid'))"
   ]
  },
  {
   "cell_type": "code",
   "execution_count": 21,
   "metadata": {
    "colab": {},
    "colab_type": "code",
    "id": "n2z-vZRVaLtW"
   },
   "outputs": [
    {
     "name": "stdout",
     "output_type": "stream",
     "text": [
      "WARNING:tensorflow:From D:\\Python\\lib\\site-packages\\tensorflow\\python\\ops\\nn_impl.py:180: add_dispatch_support.<locals>.wrapper (from tensorflow.python.ops.array_ops) is deprecated and will be removed in a future version.\n",
      "Instructions for updating:\n",
      "Use tf.where in 2.0, which has the same broadcast rule as np.where\n"
     ]
    }
   ],
   "source": [
    "# Compile the model\n",
    "model.compile(optimizer='adam',\n",
    "              loss='binary_crossentropy',\n",
    "              metrics=['accuracy'])"
   ]
  },
  {
   "cell_type": "markdown",
   "metadata": {},
   "source": [
    "Cross-entropy is a measure from the field of information theory, building upon entropy and generally calculating the difference between two probability distributions"
   ]
  },
  {
   "cell_type": "markdown",
   "metadata": {
    "colab_type": "text",
    "id": "_n_5YYbFaUYa"
   },
   "source": [
    "**Checking if the outcome of 100 and 200 epochs is same.**"
   ]
  },
  {
   "cell_type": "code",
   "execution_count": 22,
   "metadata": {
    "colab": {
     "base_uri": "https://localhost:8080/",
     "height": 1000
    },
    "colab_type": "code",
    "id": "TtqLylzEaP56",
    "outputId": "42a5e965-14a3-4a1f-a8ff-dccb7ad149b7"
   },
   "outputs": [
    {
     "name": "stdout",
     "output_type": "stream",
     "text": [
      "WARNING:tensorflow:From D:\\Python\\lib\\site-packages\\keras\\backend\\tensorflow_backend.py:422: The name tf.global_variables is deprecated. Please use tf.compat.v1.global_variables instead.\n",
      "\n",
      "Epoch 1/100\n",
      "614/614 [==============================] - 1s 1ms/step - loss: 0.7159 - accuracy: 0.5309\n",
      "Epoch 2/100\n",
      "614/614 [==============================] - 0s 60us/step - loss: 0.6505 - accuracy: 0.6629\n",
      "Epoch 3/100\n",
      "614/614 [==============================] - 0s 87us/step - loss: 0.5976 - accuracy: 0.6759\n",
      "Epoch 4/100\n",
      "614/614 [==============================] - 0s 113us/step - loss: 0.5500 - accuracy: 0.7182\n",
      "Epoch 5/100\n",
      "614/614 [==============================] - 0s 70us/step - loss: 0.5103 - accuracy: 0.7606\n",
      "Epoch 6/100\n",
      "614/614 [==============================] - 0s 78us/step - loss: 0.4846 - accuracy: 0.7752\n",
      "Epoch 7/100\n",
      "614/614 [==============================] - 0s 81us/step - loss: 0.4675 - accuracy: 0.7818\n",
      "Epoch 8/100\n",
      "614/614 [==============================] - 0s 60us/step - loss: 0.4546 - accuracy: 0.7834\n",
      "Epoch 9/100\n",
      "614/614 [==============================] - 0s 65us/step - loss: 0.4447 - accuracy: 0.7834\n",
      "Epoch 10/100\n",
      "614/614 [==============================] - 0s 58us/step - loss: 0.4374 - accuracy: 0.7850\n",
      "Epoch 11/100\n",
      "614/614 [==============================] - 0s 60us/step - loss: 0.4326 - accuracy: 0.7866\n",
      "Epoch 12/100\n",
      "614/614 [==============================] - 0s 58us/step - loss: 0.4274 - accuracy: 0.7915\n",
      "Epoch 13/100\n",
      "614/614 [==============================] - 0s 60us/step - loss: 0.4245 - accuracy: 0.7948\n",
      "Epoch 14/100\n",
      "614/614 [==============================] - 0s 62us/step - loss: 0.4223 - accuracy: 0.7932\n",
      "Epoch 15/100\n",
      "614/614 [==============================] - 0s 71us/step - loss: 0.4194 - accuracy: 0.7964\n",
      "Epoch 16/100\n",
      "614/614 [==============================] - 0s 83us/step - loss: 0.4170 - accuracy: 0.8029\n",
      "Epoch 17/100\n",
      "614/614 [==============================] - 0s 102us/step - loss: 0.4150 - accuracy: 0.7964\n",
      "Epoch 18/100\n",
      "614/614 [==============================] - 0s 78us/step - loss: 0.4139 - accuracy: 0.8029\n",
      "Epoch 19/100\n",
      "614/614 [==============================] - 0s 81us/step - loss: 0.4109 - accuracy: 0.7980\n",
      "Epoch 20/100\n",
      "614/614 [==============================] - 0s 81us/step - loss: 0.4101 - accuracy: 0.8013\n",
      "Epoch 21/100\n",
      "614/614 [==============================] - 0s 60us/step - loss: 0.4077 - accuracy: 0.7964\n",
      "Epoch 22/100\n",
      "614/614 [==============================] - 0s 70us/step - loss: 0.4051 - accuracy: 0.7980\n",
      "Epoch 23/100\n",
      "614/614 [==============================] - 0s 57us/step - loss: 0.4052 - accuracy: 0.7964\n",
      "Epoch 24/100\n",
      "614/614 [==============================] - 0s 55us/step - loss: 0.4027 - accuracy: 0.7964\n",
      "Epoch 25/100\n",
      "614/614 [==============================] - 0s 67us/step - loss: 0.4008 - accuracy: 0.7997\n",
      "Epoch 26/100\n",
      "614/614 [==============================] - 0s 57us/step - loss: 0.3994 - accuracy: 0.7997\n",
      "Epoch 27/100\n",
      "614/614 [==============================] - 0s 57us/step - loss: 0.3996 - accuracy: 0.7997\n",
      "Epoch 28/100\n",
      "614/614 [==============================] - 0s 65us/step - loss: 0.3973 - accuracy: 0.8111\n",
      "Epoch 29/100\n",
      "614/614 [==============================] - 0s 60us/step - loss: 0.3954 - accuracy: 0.8029\n",
      "Epoch 30/100\n",
      "614/614 [==============================] - 0s 58us/step - loss: 0.3932 - accuracy: 0.8046\n",
      "Epoch 31/100\n",
      "614/614 [==============================] - 0s 57us/step - loss: 0.3919 - accuracy: 0.8046\n",
      "Epoch 32/100\n",
      "614/614 [==============================] - 0s 76us/step - loss: 0.3911 - accuracy: 0.8078\n",
      "Epoch 33/100\n",
      "614/614 [==============================] - 0s 67us/step - loss: 0.3897 - accuracy: 0.8013\n",
      "Epoch 34/100\n",
      "614/614 [==============================] - 0s 135us/step - loss: 0.3886 - accuracy: 0.8078\n",
      "Epoch 35/100\n",
      "614/614 [==============================] - 0s 78us/step - loss: 0.3876 - accuracy: 0.8078\n",
      "Epoch 36/100\n",
      "614/614 [==============================] - 0s 78us/step - loss: 0.3858 - accuracy: 0.8111\n",
      "Epoch 37/100\n",
      "614/614 [==============================] - 0s 76us/step - loss: 0.3849 - accuracy: 0.8062\n",
      "Epoch 38/100\n",
      "614/614 [==============================] - 0s 70us/step - loss: 0.3837 - accuracy: 0.8078\n",
      "Epoch 39/100\n",
      "614/614 [==============================] - 0s 58us/step - loss: 0.3847 - accuracy: 0.8127\n",
      "Epoch 40/100\n",
      "614/614 [==============================] - 0s 67us/step - loss: 0.3816 - accuracy: 0.8160\n",
      "Epoch 41/100\n",
      "614/614 [==============================] - 0s 63us/step - loss: 0.3807 - accuracy: 0.8094\n",
      "Epoch 42/100\n",
      "614/614 [==============================] - 0s 75us/step - loss: 0.3783 - accuracy: 0.8176\n",
      "Epoch 43/100\n",
      "614/614 [==============================] - 0s 119us/step - loss: 0.3780 - accuracy: 0.8160\n",
      "Epoch 44/100\n",
      "614/614 [==============================] - 0s 122us/step - loss: 0.3769 - accuracy: 0.8208\n",
      "Epoch 45/100\n",
      "614/614 [==============================] - 0s 86us/step - loss: 0.3770 - accuracy: 0.8192\n",
      "Epoch 46/100\n",
      "614/614 [==============================] - 0s 96us/step - loss: 0.3748 - accuracy: 0.8143\n",
      "Epoch 47/100\n",
      "614/614 [==============================] - 0s 83us/step - loss: 0.3742 - accuracy: 0.8192\n",
      "Epoch 48/100\n",
      "614/614 [==============================] - 0s 67us/step - loss: 0.3727 - accuracy: 0.8208\n",
      "Epoch 49/100\n",
      "614/614 [==============================] - 0s 67us/step - loss: 0.3748 - accuracy: 0.8143\n",
      "Epoch 50/100\n",
      "614/614 [==============================] - 0s 80us/step - loss: 0.3726 - accuracy: 0.8257\n",
      "Epoch 51/100\n",
      "614/614 [==============================] - 0s 73us/step - loss: 0.3715 - accuracy: 0.8192\n",
      "Epoch 52/100\n",
      "614/614 [==============================] - 0s 117us/step - loss: 0.3676 - accuracy: 0.8208\n",
      "Epoch 53/100\n",
      "614/614 [==============================] - 0s 94us/step - loss: 0.3672 - accuracy: 0.8192\n",
      "Epoch 54/100\n",
      "614/614 [==============================] - 0s 71us/step - loss: 0.3667 - accuracy: 0.8274\n",
      "Epoch 55/100\n",
      "614/614 [==============================] - 0s 81us/step - loss: 0.3655 - accuracy: 0.8241\n",
      "Epoch 56/100\n",
      "614/614 [==============================] - 0s 65us/step - loss: 0.3638 - accuracy: 0.8306\n",
      "Epoch 57/100\n",
      "614/614 [==============================] - 0s 71us/step - loss: 0.3624 - accuracy: 0.8290\n",
      "Epoch 58/100\n",
      "614/614 [==============================] - 0s 62us/step - loss: 0.3635 - accuracy: 0.8241\n",
      "Epoch 59/100\n",
      "614/614 [==============================] - 0s 78us/step - loss: 0.3607 - accuracy: 0.8208\n",
      "Epoch 60/100\n",
      "614/614 [==============================] - 0s 67us/step - loss: 0.3609 - accuracy: 0.8208\n",
      "Epoch 61/100\n",
      "614/614 [==============================] - 0s 71us/step - loss: 0.3578 - accuracy: 0.8339\n",
      "Epoch 62/100\n",
      "614/614 [==============================] - 0s 70us/step - loss: 0.3576 - accuracy: 0.8290\n",
      "Epoch 63/100\n",
      "614/614 [==============================] - 0s 70us/step - loss: 0.3567 - accuracy: 0.8339\n",
      "Epoch 64/100\n",
      "614/614 [==============================] - 0s 67us/step - loss: 0.3560 - accuracy: 0.8371\n",
      "Epoch 65/100\n",
      "614/614 [==============================] - 0s 76us/step - loss: 0.3542 - accuracy: 0.8322\n",
      "Epoch 66/100\n",
      "614/614 [==============================] - 0s 89us/step - loss: 0.3529 - accuracy: 0.8274\n",
      "Epoch 67/100\n",
      "614/614 [==============================] - 0s 106us/step - loss: 0.3513 - accuracy: 0.83550s - loss: 0.3517 - accuracy: 0.83\n",
      "Epoch 68/100\n",
      "614/614 [==============================] - 0s 117us/step - loss: 0.3503 - accuracy: 0.8436\n",
      "Epoch 69/100\n",
      "614/614 [==============================] - 0s 84us/step - loss: 0.3489 - accuracy: 0.8404\n",
      "Epoch 70/100\n",
      "614/614 [==============================] - 0s 88us/step - loss: 0.3479 - accuracy: 0.8404\n",
      "Epoch 71/100\n",
      "614/614 [==============================] - 0s 102us/step - loss: 0.3476 - accuracy: 0.8371\n",
      "Epoch 72/100\n",
      "614/614 [==============================] - 0s 80us/step - loss: 0.3464 - accuracy: 0.8404\n",
      "Epoch 73/100\n",
      "614/614 [==============================] - 0s 58us/step - loss: 0.3444 - accuracy: 0.8371\n",
      "Epoch 74/100\n",
      "614/614 [==============================] - 0s 58us/step - loss: 0.3441 - accuracy: 0.8485\n",
      "Epoch 75/100\n",
      "614/614 [==============================] - 0s 58us/step - loss: 0.3438 - accuracy: 0.8453\n",
      "Epoch 76/100\n",
      "614/614 [==============================] - 0s 60us/step - loss: 0.3425 - accuracy: 0.8469\n",
      "Epoch 77/100\n",
      "614/614 [==============================] - 0s 60us/step - loss: 0.3429 - accuracy: 0.8355\n",
      "Epoch 78/100\n",
      "614/614 [==============================] - 0s 46us/step - loss: 0.3396 - accuracy: 0.8436\n",
      "Epoch 79/100\n",
      "614/614 [==============================] - 0s 123us/step - loss: 0.3379 - accuracy: 0.8404\n",
      "Epoch 80/100\n",
      "614/614 [==============================] - 0s 110us/step - loss: 0.3373 - accuracy: 0.8404\n",
      "Epoch 81/100\n",
      "614/614 [==============================] - 0s 99us/step - loss: 0.3349 - accuracy: 0.8518\n",
      "Epoch 82/100\n",
      "614/614 [==============================] - 0s 81us/step - loss: 0.3338 - accuracy: 0.8518\n",
      "Epoch 83/100\n",
      "614/614 [==============================] - 0s 80us/step - loss: 0.3347 - accuracy: 0.8453\n",
      "Epoch 84/100\n",
      "614/614 [==============================] - 0s 89us/step - loss: 0.3326 - accuracy: 0.8404\n",
      "Epoch 85/100\n",
      "614/614 [==============================] - 0s 75us/step - loss: 0.3310 - accuracy: 0.8469\n",
      "Epoch 86/100\n",
      "614/614 [==============================] - 0s 119us/step - loss: 0.3291 - accuracy: 0.8420\n",
      "Epoch 87/100\n",
      "614/614 [==============================] - 0s 110us/step - loss: 0.3293 - accuracy: 0.8502\n",
      "Epoch 88/100\n",
      "614/614 [==============================] - 0s 102us/step - loss: 0.3280 - accuracy: 0.8485\n",
      "Epoch 89/100\n",
      "614/614 [==============================] - 0s 88us/step - loss: 0.3254 - accuracy: 0.8453\n",
      "Epoch 90/100\n",
      "614/614 [==============================] - 0s 78us/step - loss: 0.3276 - accuracy: 0.8469\n",
      "Epoch 91/100\n",
      "614/614 [==============================] - 0s 115us/step - loss: 0.3252 - accuracy: 0.8502\n",
      "Epoch 92/100\n",
      "614/614 [==============================] - 0s 83us/step - loss: 0.3237 - accuracy: 0.8485\n",
      "Epoch 93/100\n",
      "614/614 [==============================] - 0s 110us/step - loss: 0.3238 - accuracy: 0.8469\n",
      "Epoch 94/100\n",
      "614/614 [==============================] - 0s 119us/step - loss: 0.3215 - accuracy: 0.8453\n",
      "Epoch 95/100\n",
      "614/614 [==============================] - 0s 110us/step - loss: 0.3196 - accuracy: 0.8518\n",
      "Epoch 96/100\n",
      "614/614 [==============================] - 0s 88us/step - loss: 0.3199 - accuracy: 0.8518\n",
      "Epoch 97/100\n",
      "614/614 [==============================] - 0s 75us/step - loss: 0.3185 - accuracy: 0.8518\n",
      "Epoch 98/100\n",
      "614/614 [==============================] - 0s 76us/step - loss: 0.3157 - accuracy: 0.8599\n",
      "Epoch 99/100\n",
      "614/614 [==============================] - 0s 76us/step - loss: 0.3158 - accuracy: 0.8502\n",
      "Epoch 100/100\n",
      "614/614 [==============================] - 0s 75us/step - loss: 0.3145 - accuracy: 0.8534\n"
     ]
    },
    {
     "data": {
      "text/plain": [
       "<keras.callbacks.callbacks.History at 0x1c9b0c55e48>"
      ]
     },
     "execution_count": 22,
     "metadata": {},
     "output_type": "execute_result"
    }
   ],
   "source": [
    "# Train the model for 100 epochs\n",
    "model.fit(X_train, y_train, epochs=100)"
   ]
  },
  {
   "cell_type": "code",
   "execution_count": 23,
   "metadata": {
    "colab": {
     "base_uri": "https://localhost:8080/",
     "height": 124
    },
    "colab_type": "code",
    "id": "NFE4IP0BadGv",
    "outputId": "0fab18b6-2ef6-4514-b512-61527bf12988"
   },
   "outputs": [
    {
     "name": "stdout",
     "output_type": "stream",
     "text": [
      "614/614 [==============================] - 0s 120us/step\n",
      "Training Accuracy: 85.99%\n",
      "\n",
      "154/154 [==============================] - 0s 32us/step\n",
      "Testing Accuracy: 74.03%\n",
      "\n"
     ]
    }
   ],
   "source": [
    "scores = model.evaluate(X_train, y_train)\n",
    "print('Training Accuracy: %.2f%%\\n' % (scores[1]*100))\n",
    "\n",
    "scores = model.evaluate(X_test, y_test)\n",
    "print('Testing Accuracy: %.2f%%\\n' % (scores[1]*100))"
   ]
  },
  {
   "cell_type": "code",
   "execution_count": 24,
   "metadata": {
    "colab": {
     "base_uri": "https://localhost:8080/",
     "height": 1000
    },
    "colab_type": "code",
    "id": "O1IiVBtqahDs",
    "outputId": "c820de78-9764-4dfc-fa3c-6189c2b78001"
   },
   "outputs": [
    {
     "name": "stdout",
     "output_type": "stream",
     "text": [
      "Epoch 1/200\n",
      "614/614 [==============================] - 0s 78us/step - loss: 0.3129 - accuracy: 0.8550\n",
      "Epoch 2/200\n",
      "614/614 [==============================] - 0s 67us/step - loss: 0.3114 - accuracy: 0.8583\n",
      "Epoch 3/200\n",
      "614/614 [==============================] - 0s 73us/step - loss: 0.3138 - accuracy: 0.8469\n",
      "Epoch 4/200\n",
      "614/614 [==============================] - 0s 63us/step - loss: 0.3112 - accuracy: 0.8534\n",
      "Epoch 5/200\n",
      "614/614 [==============================] - 0s 70us/step - loss: 0.3088 - accuracy: 0.8485\n",
      "Epoch 6/200\n",
      "614/614 [==============================] - 0s 65us/step - loss: 0.3092 - accuracy: 0.8502\n",
      "Epoch 7/200\n",
      "614/614 [==============================] - 0s 68us/step - loss: 0.3090 - accuracy: 0.8453\n",
      "Epoch 8/200\n",
      "614/614 [==============================] - 0s 65us/step - loss: 0.3088 - accuracy: 0.8550\n",
      "Epoch 9/200\n",
      "614/614 [==============================] - 0s 73us/step - loss: 0.3058 - accuracy: 0.8550\n",
      "Epoch 10/200\n",
      "614/614 [==============================] - 0s 63us/step - loss: 0.3043 - accuracy: 0.8550\n",
      "Epoch 11/200\n",
      "614/614 [==============================] - 0s 67us/step - loss: 0.3028 - accuracy: 0.8550\n",
      "Epoch 12/200\n",
      "614/614 [==============================] - 0s 65us/step - loss: 0.3032 - accuracy: 0.8502\n",
      "Epoch 13/200\n",
      "614/614 [==============================] - 0s 78us/step - loss: 0.3005 - accuracy: 0.8616\n",
      "Epoch 14/200\n",
      "614/614 [==============================] - 0s 71us/step - loss: 0.3003 - accuracy: 0.8664\n",
      "Epoch 15/200\n",
      "614/614 [==============================] - 0s 63us/step - loss: 0.2988 - accuracy: 0.8550\n",
      "Epoch 16/200\n",
      "614/614 [==============================] - 0s 63us/step - loss: 0.2995 - accuracy: 0.8632\n",
      "Epoch 17/200\n",
      "614/614 [==============================] - 0s 60us/step - loss: 0.2961 - accuracy: 0.8583\n",
      "Epoch 18/200\n",
      "614/614 [==============================] - 0s 65us/step - loss: 0.2950 - accuracy: 0.8518\n",
      "Epoch 19/200\n",
      "614/614 [==============================] - 0s 73us/step - loss: 0.2933 - accuracy: 0.8567\n",
      "Epoch 20/200\n",
      "614/614 [==============================] - 0s 81us/step - loss: 0.2918 - accuracy: 0.8616\n",
      "Epoch 21/200\n",
      "614/614 [==============================] - 0s 63us/step - loss: 0.2915 - accuracy: 0.8648\n",
      "Epoch 22/200\n",
      "614/614 [==============================] - 0s 58us/step - loss: 0.2901 - accuracy: 0.8632\n",
      "Epoch 23/200\n",
      "614/614 [==============================] - 0s 68us/step - loss: 0.2890 - accuracy: 0.8681\n",
      "Epoch 24/200\n",
      "614/614 [==============================] - 0s 71us/step - loss: 0.2892 - accuracy: 0.8632\n",
      "Epoch 25/200\n",
      "614/614 [==============================] - 0s 78us/step - loss: 0.2869 - accuracy: 0.8697\n",
      "Epoch 26/200\n",
      "614/614 [==============================] - 0s 70us/step - loss: 0.2847 - accuracy: 0.8664\n",
      "Epoch 27/200\n",
      "614/614 [==============================] - 0s 58us/step - loss: 0.2846 - accuracy: 0.8730\n",
      "Epoch 28/200\n",
      "614/614 [==============================] - 0s 63us/step - loss: 0.2828 - accuracy: 0.8730\n",
      "Epoch 29/200\n",
      "614/614 [==============================] - 0s 60us/step - loss: 0.2817 - accuracy: 0.8681\n",
      "Epoch 30/200\n",
      "614/614 [==============================] - 0s 68us/step - loss: 0.2835 - accuracy: 0.8713\n",
      "Epoch 31/200\n",
      "614/614 [==============================] - 0s 62us/step - loss: 0.2796 - accuracy: 0.8713\n",
      "Epoch 32/200\n",
      "614/614 [==============================] - 0s 68us/step - loss: 0.2791 - accuracy: 0.8697\n",
      "Epoch 33/200\n",
      "614/614 [==============================] - 0s 63us/step - loss: 0.2766 - accuracy: 0.8795\n",
      "Epoch 34/200\n",
      "614/614 [==============================] - 0s 67us/step - loss: 0.2780 - accuracy: 0.8730\n",
      "Epoch 35/200\n",
      "614/614 [==============================] - 0s 65us/step - loss: 0.2745 - accuracy: 0.8713\n",
      "Epoch 36/200\n",
      "614/614 [==============================] - 0s 71us/step - loss: 0.2754 - accuracy: 0.8730\n",
      "Epoch 37/200\n",
      "614/614 [==============================] - 0s 75us/step - loss: 0.2736 - accuracy: 0.8779\n",
      "Epoch 38/200\n",
      "614/614 [==============================] - 0s 73us/step - loss: 0.2738 - accuracy: 0.8632\n",
      "Epoch 39/200\n",
      "614/614 [==============================] - 0s 73us/step - loss: 0.2703 - accuracy: 0.8730\n",
      "Epoch 40/200\n",
      "614/614 [==============================] - 0s 63us/step - loss: 0.2685 - accuracy: 0.8779\n",
      "Epoch 41/200\n",
      "614/614 [==============================] - 0s 63us/step - loss: 0.2705 - accuracy: 0.8762\n",
      "Epoch 42/200\n",
      "614/614 [==============================] - 0s 58us/step - loss: 0.2689 - accuracy: 0.8713\n",
      "Epoch 43/200\n",
      "614/614 [==============================] - 0s 55us/step - loss: 0.2698 - accuracy: 0.8762\n",
      "Epoch 44/200\n",
      "614/614 [==============================] - 0s 62us/step - loss: 0.2661 - accuracy: 0.8730\n",
      "Epoch 45/200\n",
      "614/614 [==============================] - 0s 62us/step - loss: 0.2666 - accuracy: 0.8762\n",
      "Epoch 46/200\n",
      "614/614 [==============================] - 0s 62us/step - loss: 0.2628 - accuracy: 0.8779\n",
      "Epoch 47/200\n",
      "614/614 [==============================] - 0s 68us/step - loss: 0.2609 - accuracy: 0.8876\n",
      "Epoch 48/200\n",
      "614/614 [==============================] - 0s 55us/step - loss: 0.2621 - accuracy: 0.8827\n",
      "Epoch 49/200\n",
      "614/614 [==============================] - 0s 65us/step - loss: 0.2593 - accuracy: 0.8811\n",
      "Epoch 50/200\n",
      "614/614 [==============================] - 0s 63us/step - loss: 0.2589 - accuracy: 0.8844\n",
      "Epoch 51/200\n",
      "614/614 [==============================] - 0s 70us/step - loss: 0.2670 - accuracy: 0.8697\n",
      "Epoch 52/200\n",
      "614/614 [==============================] - 0s 73us/step - loss: 0.2582 - accuracy: 0.8827\n",
      "Epoch 53/200\n",
      "614/614 [==============================] - 0s 67us/step - loss: 0.2551 - accuracy: 0.8811\n",
      "Epoch 54/200\n",
      "614/614 [==============================] - 0s 60us/step - loss: 0.2556 - accuracy: 0.8860\n",
      "Epoch 55/200\n",
      "614/614 [==============================] - 0s 62us/step - loss: 0.2541 - accuracy: 0.8827\n",
      "Epoch 56/200\n",
      "614/614 [==============================] - 0s 65us/step - loss: 0.2573 - accuracy: 0.8844\n",
      "Epoch 57/200\n",
      "614/614 [==============================] - 0s 75us/step - loss: 0.2517 - accuracy: 0.8876\n",
      "Epoch 58/200\n",
      "614/614 [==============================] - 0s 83us/step - loss: 0.2500 - accuracy: 0.8925\n",
      "Epoch 59/200\n",
      "614/614 [==============================] - 0s 78us/step - loss: 0.2493 - accuracy: 0.8860\n",
      "Epoch 60/200\n",
      "614/614 [==============================] - 0s 71us/step - loss: 0.2486 - accuracy: 0.8860\n",
      "Epoch 61/200\n",
      "614/614 [==============================] - 0s 70us/step - loss: 0.2456 - accuracy: 0.8909\n",
      "Epoch 62/200\n",
      "614/614 [==============================] - 0s 67us/step - loss: 0.2474 - accuracy: 0.8893\n",
      "Epoch 63/200\n",
      "614/614 [==============================] - 0s 57us/step - loss: 0.2451 - accuracy: 0.8941\n",
      "Epoch 64/200\n",
      "614/614 [==============================] - 0s 81us/step - loss: 0.2432 - accuracy: 0.8860\n",
      "Epoch 65/200\n",
      "614/614 [==============================] - 0s 62us/step - loss: 0.2418 - accuracy: 0.8958\n",
      "Epoch 66/200\n",
      "614/614 [==============================] - 0s 75us/step - loss: 0.2421 - accuracy: 0.8958\n",
      "Epoch 67/200\n",
      "614/614 [==============================] - 0s 63us/step - loss: 0.2411 - accuracy: 0.8893\n",
      "Epoch 68/200\n",
      "614/614 [==============================] - 0s 65us/step - loss: 0.2385 - accuracy: 0.8990\n",
      "Epoch 69/200\n",
      "614/614 [==============================] - 0s 71us/step - loss: 0.2373 - accuracy: 0.8990\n",
      "Epoch 70/200\n",
      "614/614 [==============================] - 0s 67us/step - loss: 0.2360 - accuracy: 0.8941\n",
      "Epoch 71/200\n",
      "614/614 [==============================] - 0s 60us/step - loss: 0.2385 - accuracy: 0.8844\n",
      "Epoch 72/200\n",
      "614/614 [==============================] - 0s 62us/step - loss: 0.2358 - accuracy: 0.8909\n",
      "Epoch 73/200\n",
      "614/614 [==============================] - 0s 62us/step - loss: 0.2339 - accuracy: 0.8958\n",
      "Epoch 74/200\n",
      "614/614 [==============================] - 0s 78us/step - loss: 0.2383 - accuracy: 0.8941\n",
      "Epoch 75/200\n",
      "614/614 [==============================] - 0s 70us/step - loss: 0.2344 - accuracy: 0.8925\n",
      "Epoch 76/200\n",
      "614/614 [==============================] - 0s 67us/step - loss: 0.2308 - accuracy: 0.8974\n",
      "Epoch 77/200\n",
      "614/614 [==============================] - 0s 73us/step - loss: 0.2292 - accuracy: 0.8941\n",
      "Epoch 78/200\n",
      "614/614 [==============================] - 0s 70us/step - loss: 0.2308 - accuracy: 0.8925\n",
      "Epoch 79/200\n",
      "614/614 [==============================] - 0s 65us/step - loss: 0.2325 - accuracy: 0.9072\n",
      "Epoch 80/200\n",
      "614/614 [==============================] - 0s 68us/step - loss: 0.2269 - accuracy: 0.9039\n",
      "Epoch 81/200\n",
      "614/614 [==============================] - 0s 67us/step - loss: 0.2255 - accuracy: 0.8990\n",
      "Epoch 82/200\n",
      "614/614 [==============================] - 0s 58us/step - loss: 0.2247 - accuracy: 0.9072\n",
      "Epoch 83/200\n",
      "614/614 [==============================] - 0s 67us/step - loss: 0.2239 - accuracy: 0.9023\n",
      "Epoch 84/200\n",
      "614/614 [==============================] - 0s 75us/step - loss: 0.2281 - accuracy: 0.9007\n",
      "Epoch 85/200\n",
      "614/614 [==============================] - 0s 60us/step - loss: 0.2247 - accuracy: 0.8974\n",
      "Epoch 86/200\n",
      "614/614 [==============================] - 0s 58us/step - loss: 0.2219 - accuracy: 0.9153\n",
      "Epoch 87/200\n",
      "614/614 [==============================] - 0s 57us/step - loss: 0.2195 - accuracy: 0.9088\n",
      "Epoch 88/200\n",
      "614/614 [==============================] - 0s 58us/step - loss: 0.2190 - accuracy: 0.9039\n",
      "Epoch 89/200\n",
      "614/614 [==============================] - 0s 58us/step - loss: 0.2178 - accuracy: 0.9072\n",
      "Epoch 90/200\n",
      "614/614 [==============================] - 0s 63us/step - loss: 0.2164 - accuracy: 0.9055\n",
      "Epoch 91/200\n",
      "614/614 [==============================] - 0s 57us/step - loss: 0.2166 - accuracy: 0.9055\n",
      "Epoch 92/200\n",
      "614/614 [==============================] - 0s 60us/step - loss: 0.2175 - accuracy: 0.8990\n",
      "Epoch 93/200\n",
      "614/614 [==============================] - 0s 60us/step - loss: 0.2169 - accuracy: 0.9121\n",
      "Epoch 94/200\n",
      "614/614 [==============================] - 0s 55us/step - loss: 0.2156 - accuracy: 0.9121\n",
      "Epoch 95/200\n",
      "614/614 [==============================] - 0s 57us/step - loss: 0.2155 - accuracy: 0.9153\n",
      "Epoch 96/200\n",
      "614/614 [==============================] - 0s 58us/step - loss: 0.2126 - accuracy: 0.9104\n",
      "Epoch 97/200\n",
      "614/614 [==============================] - 0s 54us/step - loss: 0.2131 - accuracy: 0.9153\n",
      "Epoch 98/200\n",
      "614/614 [==============================] - 0s 60us/step - loss: 0.2143 - accuracy: 0.9169\n",
      "Epoch 99/200\n",
      "614/614 [==============================] - 0s 60us/step - loss: 0.2094 - accuracy: 0.9088\n",
      "Epoch 100/200\n",
      "614/614 [==============================] - 0s 60us/step - loss: 0.2090 - accuracy: 0.9137\n",
      "Epoch 101/200\n",
      "614/614 [==============================] - 0s 58us/step - loss: 0.2102 - accuracy: 0.9104\n",
      "Epoch 102/200\n",
      "614/614 [==============================] - 0s 60us/step - loss: 0.2073 - accuracy: 0.9121\n",
      "Epoch 103/200\n",
      "614/614 [==============================] - 0s 55us/step - loss: 0.2055 - accuracy: 0.9153\n",
      "Epoch 104/200\n",
      "614/614 [==============================] - 0s 58us/step - loss: 0.2061 - accuracy: 0.9202\n",
      "Epoch 105/200\n",
      "614/614 [==============================] - 0s 65us/step - loss: 0.2056 - accuracy: 0.9218\n",
      "Epoch 106/200\n",
      "614/614 [==============================] - 0s 57us/step - loss: 0.2057 - accuracy: 0.9169\n",
      "Epoch 107/200\n",
      "614/614 [==============================] - 0s 62us/step - loss: 0.2037 - accuracy: 0.9169\n",
      "Epoch 108/200\n",
      "614/614 [==============================] - 0s 62us/step - loss: 0.2032 - accuracy: 0.9202\n",
      "Epoch 109/200\n",
      "614/614 [==============================] - 0s 60us/step - loss: 0.2006 - accuracy: 0.9218\n",
      "Epoch 110/200\n",
      "614/614 [==============================] - 0s 60us/step - loss: 0.1999 - accuracy: 0.9186\n",
      "Epoch 111/200\n",
      "614/614 [==============================] - 0s 55us/step - loss: 0.1990 - accuracy: 0.9251\n",
      "Epoch 112/200\n",
      "614/614 [==============================] - 0s 58us/step - loss: 0.1986 - accuracy: 0.9202\n",
      "Epoch 113/200\n",
      "614/614 [==============================] - 0s 60us/step - loss: 0.1983 - accuracy: 0.9251\n",
      "Epoch 114/200\n",
      "614/614 [==============================] - 0s 58us/step - loss: 0.1984 - accuracy: 0.9169\n",
      "Epoch 115/200\n",
      "614/614 [==============================] - 0s 58us/step - loss: 0.2010 - accuracy: 0.9137\n",
      "Epoch 116/200\n",
      "614/614 [==============================] - 0s 60us/step - loss: 0.1966 - accuracy: 0.9186\n",
      "Epoch 117/200\n",
      "614/614 [==============================] - 0s 60us/step - loss: 0.1950 - accuracy: 0.9300\n",
      "Epoch 118/200\n",
      "614/614 [==============================] - 0s 60us/step - loss: 0.1939 - accuracy: 0.9218\n",
      "Epoch 119/200\n",
      "614/614 [==============================] - 0s 58us/step - loss: 0.1934 - accuracy: 0.9202\n",
      "Epoch 120/200\n",
      "614/614 [==============================] - 0s 55us/step - loss: 0.1944 - accuracy: 0.9186\n",
      "Epoch 121/200\n",
      "614/614 [==============================] - 0s 58us/step - loss: 0.1920 - accuracy: 0.9235\n",
      "Epoch 122/200\n",
      "614/614 [==============================] - 0s 62us/step - loss: 0.1904 - accuracy: 0.9169\n",
      "Epoch 123/200\n",
      "614/614 [==============================] - 0s 54us/step - loss: 0.1902 - accuracy: 0.9283\n",
      "Epoch 124/200\n",
      "614/614 [==============================] - 0s 60us/step - loss: 0.1893 - accuracy: 0.9235\n",
      "Epoch 125/200\n",
      "614/614 [==============================] - 0s 54us/step - loss: 0.1889 - accuracy: 0.9267\n",
      "Epoch 126/200\n",
      "614/614 [==============================] - 0s 62us/step - loss: 0.1890 - accuracy: 0.9267\n",
      "Epoch 127/200\n",
      "614/614 [==============================] - 0s 62us/step - loss: 0.1860 - accuracy: 0.9235\n",
      "Epoch 128/200\n",
      "614/614 [==============================] - 0s 55us/step - loss: 0.1876 - accuracy: 0.9283\n",
      "Epoch 129/200\n",
      "614/614 [==============================] - 0s 57us/step - loss: 0.1866 - accuracy: 0.9267\n",
      "Epoch 130/200\n",
      "614/614 [==============================] - 0s 62us/step - loss: 0.1863 - accuracy: 0.9267\n",
      "Epoch 131/200\n",
      "614/614 [==============================] - 0s 55us/step - loss: 0.1853 - accuracy: 0.9251\n",
      "Epoch 132/200\n",
      "614/614 [==============================] - 0s 58us/step - loss: 0.1832 - accuracy: 0.9283\n",
      "Epoch 133/200\n",
      "614/614 [==============================] - 0s 60us/step - loss: 0.1821 - accuracy: 0.9267\n",
      "Epoch 134/200\n",
      "614/614 [==============================] - 0s 55us/step - loss: 0.1817 - accuracy: 0.9332\n",
      "Epoch 135/200\n",
      "614/614 [==============================] - 0s 57us/step - loss: 0.1809 - accuracy: 0.9300\n",
      "Epoch 136/200\n",
      "614/614 [==============================] - 0s 62us/step - loss: 0.1800 - accuracy: 0.9300\n",
      "Epoch 137/200\n",
      "614/614 [==============================] - 0s 59us/step - loss: 0.1824 - accuracy: 0.9300\n",
      "Epoch 138/200\n",
      "614/614 [==============================] - 0s 60us/step - loss: 0.1789 - accuracy: 0.9316\n",
      "Epoch 139/200\n",
      "614/614 [==============================] - 0s 60us/step - loss: 0.1774 - accuracy: 0.9365\n",
      "Epoch 140/200\n",
      "614/614 [==============================] - 0s 57us/step - loss: 0.1773 - accuracy: 0.9316\n",
      "Epoch 141/200\n",
      "614/614 [==============================] - 0s 60us/step - loss: 0.1752 - accuracy: 0.9430\n",
      "Epoch 142/200\n",
      "614/614 [==============================] - 0s 55us/step - loss: 0.1768 - accuracy: 0.9349\n",
      "Epoch 143/200\n",
      "614/614 [==============================] - 0s 62us/step - loss: 0.1759 - accuracy: 0.9349\n",
      "Epoch 144/200\n",
      "614/614 [==============================] - 0s 60us/step - loss: 0.1749 - accuracy: 0.9332\n",
      "Epoch 145/200\n",
      "614/614 [==============================] - 0s 54us/step - loss: 0.1725 - accuracy: 0.9365\n",
      "Epoch 146/200\n",
      "614/614 [==============================] - 0s 57us/step - loss: 0.1729 - accuracy: 0.9365\n",
      "Epoch 147/200\n",
      "614/614 [==============================] - 0s 58us/step - loss: 0.1707 - accuracy: 0.9381\n",
      "Epoch 148/200\n",
      "614/614 [==============================] - 0s 57us/step - loss: 0.1701 - accuracy: 0.9316\n",
      "Epoch 149/200\n",
      "614/614 [==============================] - 0s 62us/step - loss: 0.1699 - accuracy: 0.9397\n",
      "Epoch 150/200\n",
      "614/614 [==============================] - 0s 60us/step - loss: 0.1725 - accuracy: 0.9397\n",
      "Epoch 151/200\n",
      "614/614 [==============================] - 0s 57us/step - loss: 0.1680 - accuracy: 0.9463\n",
      "Epoch 152/200\n",
      "614/614 [==============================] - 0s 55us/step - loss: 0.1724 - accuracy: 0.9349\n",
      "Epoch 153/200\n",
      "614/614 [==============================] - 0s 62us/step - loss: 0.1671 - accuracy: 0.9446\n",
      "Epoch 154/200\n",
      "614/614 [==============================] - 0s 55us/step - loss: 0.1661 - accuracy: 0.9463\n",
      "Epoch 155/200\n",
      "614/614 [==============================] - 0s 55us/step - loss: 0.1651 - accuracy: 0.9495\n",
      "Epoch 156/200\n",
      "614/614 [==============================] - 0s 58us/step - loss: 0.1657 - accuracy: 0.9397\n",
      "Epoch 157/200\n",
      "614/614 [==============================] - 0s 54us/step - loss: 0.1664 - accuracy: 0.9430\n",
      "Epoch 158/200\n",
      "614/614 [==============================] - 0s 63us/step - loss: 0.1666 - accuracy: 0.9381\n",
      "Epoch 159/200\n"
     ]
    },
    {
     "name": "stdout",
     "output_type": "stream",
     "text": [
      "614/614 [==============================] - 0s 60us/step - loss: 0.1678 - accuracy: 0.9463\n",
      "Epoch 160/200\n",
      "614/614 [==============================] - 0s 57us/step - loss: 0.1643 - accuracy: 0.9511\n",
      "Epoch 161/200\n",
      "614/614 [==============================] - 0s 60us/step - loss: 0.1642 - accuracy: 0.9381\n",
      "Epoch 162/200\n",
      "614/614 [==============================] - 0s 57us/step - loss: 0.1613 - accuracy: 0.9511\n",
      "Epoch 163/200\n",
      "614/614 [==============================] - 0s 55us/step - loss: 0.1596 - accuracy: 0.9528\n",
      "Epoch 164/200\n",
      "614/614 [==============================] - 0s 57us/step - loss: 0.1589 - accuracy: 0.9511\n",
      "Epoch 165/200\n",
      "614/614 [==============================] - 0s 54us/step - loss: 0.1592 - accuracy: 0.9446\n",
      "Epoch 166/200\n",
      "614/614 [==============================] - 0s 58us/step - loss: 0.1588 - accuracy: 0.9414\n",
      "Epoch 167/200\n",
      "614/614 [==============================] - 0s 57us/step - loss: 0.1588 - accuracy: 0.9528\n",
      "Epoch 168/200\n",
      "614/614 [==============================] - 0s 62us/step - loss: 0.1579 - accuracy: 0.9430\n",
      "Epoch 169/200\n",
      "614/614 [==============================] - 0s 55us/step - loss: 0.1587 - accuracy: 0.9430\n",
      "Epoch 170/200\n",
      "614/614 [==============================] - 0s 57us/step - loss: 0.1563 - accuracy: 0.9511\n",
      "Epoch 171/200\n",
      "614/614 [==============================] - 0s 55us/step - loss: 0.1534 - accuracy: 0.9528\n",
      "Epoch 172/200\n",
      "614/614 [==============================] - 0s 57us/step - loss: 0.1567 - accuracy: 0.9479\n",
      "Epoch 173/200\n",
      "614/614 [==============================] - 0s 55us/step - loss: 0.1531 - accuracy: 0.9544\n",
      "Epoch 174/200\n",
      "614/614 [==============================] - 0s 58us/step - loss: 0.1519 - accuracy: 0.9528\n",
      "Epoch 175/200\n",
      "614/614 [==============================] - 0s 54us/step - loss: 0.1522 - accuracy: 0.9544\n",
      "Epoch 176/200\n",
      "614/614 [==============================] - 0s 50us/step - loss: 0.1526 - accuracy: 0.9463\n",
      "Epoch 177/200\n",
      "614/614 [==============================] - 0s 58us/step - loss: 0.1530 - accuracy: 0.9577\n",
      "Epoch 178/200\n",
      "614/614 [==============================] - 0s 58us/step - loss: 0.1495 - accuracy: 0.9577\n",
      "Epoch 179/200\n",
      "614/614 [==============================] - 0s 58us/step - loss: 0.1493 - accuracy: 0.9593\n",
      "Epoch 180/200\n",
      "614/614 [==============================] - 0s 54us/step - loss: 0.1515 - accuracy: 0.9479\n",
      "Epoch 181/200\n",
      "614/614 [==============================] - 0s 60us/step - loss: 0.1507 - accuracy: 0.9528\n",
      "Epoch 182/200\n",
      "614/614 [==============================] - 0s 54us/step - loss: 0.1479 - accuracy: 0.9560\n",
      "Epoch 183/200\n",
      "614/614 [==============================] - 0s 52us/step - loss: 0.1467 - accuracy: 0.9609\n",
      "Epoch 184/200\n",
      "614/614 [==============================] - 0s 60us/step - loss: 0.1468 - accuracy: 0.9577\n",
      "Epoch 185/200\n",
      "614/614 [==============================] - 0s 60us/step - loss: 0.1474 - accuracy: 0.9577\n",
      "Epoch 186/200\n",
      "614/614 [==============================] - 0s 58us/step - loss: 0.1468 - accuracy: 0.9528\n",
      "Epoch 187/200\n",
      "614/614 [==============================] - 0s 55us/step - loss: 0.1452 - accuracy: 0.9577\n",
      "Epoch 188/200\n",
      "614/614 [==============================] - 0s 58us/step - loss: 0.1439 - accuracy: 0.9544\n",
      "Epoch 189/200\n",
      "614/614 [==============================] - 0s 52us/step - loss: 0.1442 - accuracy: 0.9609\n",
      "Epoch 190/200\n",
      "614/614 [==============================] - 0s 62us/step - loss: 0.1425 - accuracy: 0.9593\n",
      "Epoch 191/200\n",
      "614/614 [==============================] - 0s 47us/step - loss: 0.1445 - accuracy: 0.9544\n",
      "Epoch 192/200\n",
      "614/614 [==============================] - 0s 58us/step - loss: 0.1438 - accuracy: 0.9560\n",
      "Epoch 193/200\n",
      "614/614 [==============================] - 0s 54us/step - loss: 0.1425 - accuracy: 0.9560\n",
      "Epoch 194/200\n",
      "614/614 [==============================] - 0s 58us/step - loss: 0.1409 - accuracy: 0.9577\n",
      "Epoch 195/200\n",
      "614/614 [==============================] - 0s 91us/step - loss: 0.1403 - accuracy: 0.9577\n",
      "Epoch 196/200\n",
      "614/614 [==============================] - 0s 71us/step - loss: 0.1406 - accuracy: 0.9609\n",
      "Epoch 197/200\n",
      "614/614 [==============================] - 0s 57us/step - loss: 0.1397 - accuracy: 0.9625\n",
      "Epoch 198/200\n",
      "614/614 [==============================] - 0s 52us/step - loss: 0.1369 - accuracy: 0.9625\n",
      "Epoch 199/200\n",
      "614/614 [==============================] - 0s 58us/step - loss: 0.1366 - accuracy: 0.9609\n",
      "Epoch 200/200\n",
      "614/614 [==============================] - 0s 59us/step - loss: 0.1367 - accuracy: 0.9593\n"
     ]
    },
    {
     "data": {
      "text/plain": [
       "<keras.callbacks.callbacks.History at 0x1c9a74b1128>"
      ]
     },
     "execution_count": 24,
     "metadata": {},
     "output_type": "execute_result"
    }
   ],
   "source": [
    "# Train the model for 200 epochs\n",
    "model.fit(X_train, y_train, epochs=200)"
   ]
  },
  {
   "cell_type": "code",
   "execution_count": 25,
   "metadata": {
    "colab": {
     "base_uri": "https://localhost:8080/",
     "height": 124
    },
    "colab_type": "code",
    "id": "XzBxMoqIaoDa",
    "outputId": "8da80128-3554-40ec-e3c1-ea06e0e46e5d"
   },
   "outputs": [
    {
     "name": "stdout",
     "output_type": "stream",
     "text": [
      "614/614 [==============================] - 0s 39us/step\n",
      "Training Accuracy: 96.42%\n",
      "\n",
      "154/154 [==============================] - 0s 45us/step\n",
      "Testing Accuracy: 70.13%\n",
      "\n"
     ]
    }
   ],
   "source": [
    "scores = model.evaluate(X_train, y_train)\n",
    "print('Training Accuracy: %.2f%%\\n' % (scores[1]*100))\n",
    "\n",
    "scores = model.evaluate(X_test, y_test)\n",
    "print('Testing Accuracy: %.2f%%\\n' % (scores[1]*100))"
   ]
  },
  {
   "cell_type": "markdown",
   "metadata": {
    "colab_type": "text",
    "id": "nmGxP8e1a1Xt"
   },
   "source": [
    " **Evaluating the training and testing sets’ accuracy.**"
   ]
  },
  {
   "cell_type": "markdown",
   "metadata": {
    "colab_type": "text",
    "id": "pVSCiwBw8BW1"
   },
   "source": [
    "The models which are trained more, have more training and testing accuracy. For the model which is trained with 100 epochs, it has a training and testing accuracy of 85.99% and 74.03%, while with 200 epochs, the training and testing accuracies are 96.42% and 70.13%. The training and testing accuracies are almost same, which means the number of Epoch does not play a important role."
   ]
  },
  {
   "cell_type": "markdown",
   "metadata": {
    "colab_type": "text",
    "id": "GgkUc0k5a3yt"
   },
   "source": [
    "**Provide the confusion matrix using seaborn. What are the conclusions**?"
   ]
  },
  {
   "cell_type": "code",
   "execution_count": 26,
   "metadata": {
    "colab": {
     "base_uri": "https://localhost:8080/",
     "height": 297
    },
    "colab_type": "code",
    "id": "7SVfx7WIar_P",
    "outputId": "64c3f942-31c3-4bfa-eea3-0bd74130f87a"
   },
   "outputs": [
    {
     "data": {
      "text/plain": [
       "Text(33.0, 0.5, 'Actual')"
      ]
     },
     "execution_count": 26,
     "metadata": {},
     "output_type": "execute_result"
    },
    {
     "data": {
      "image/png": "[encoded data removed]",
      "text/plain": [
       "<Figure size 432x288 with 1 Axes>"
      ]
     },
     "metadata": {
      "needs_background": "light"
     },
     "output_type": "display_data"
    }
   ],
   "source": [
    "from sklearn.metrics import confusion_matrix\n",
    "import seaborn as sns\n",
    "\n",
    "y_test_pred = model.predict_classes(X_test)\n",
    "c_matrix = confusion_matrix(y_test, y_test_pred)\n",
    "ax = sns.heatmap(c_matrix, annot=True, \n",
    "                 xticklabels=['No Diabetes','Diabetes'],\n",
    "                 yticklabels=['No Diabetes','Diabetes'], \n",
    "                 cbar=False, cmap='Blues')\n",
    "ax.set_xlabel('Prediction')\n",
    "ax.set_ylabel('Actual')"
   ]
  },
  {
   "cell_type": "markdown",
   "metadata": {
    "colab_type": "text",
    "id": "NFjAWybvGOFu"
   },
   "source": [
    "From the confusion matrix, you can say that most of the predictions are true positives(30) and true negatives(82), can be cross varified from the test accuracy too(~73%)."
   ]
  },
  {
   "cell_type": "markdown",
   "metadata": {
    "colab_type": "text",
    "id": "5A3UvYwSbDSL"
   },
   "source": [
    "**Providing the ROC graph. What are the conclusions?**"
   ]
  },
  {
   "cell_type": "code",
   "execution_count": 27,
   "metadata": {
    "colab": {},
    "colab_type": "code",
    "id": "6WMo53smbAFX"
   },
   "outputs": [],
   "source": [
    "from sklearn.metrics import roc_curve\n",
    "import matplotlib.pyplot as plt\n",
    "\n",
    "y_test_pred_probs = model.predict(X_test)"
   ]
  },
  {
   "cell_type": "code",
   "execution_count": 28,
   "metadata": {
    "colab": {},
    "colab_type": "code",
    "id": "oO8gBAXabHwO"
   },
   "outputs": [],
   "source": [
    "FPR, TPR, _ = roc_curve(y_test, y_test_pred_probs)"
   ]
  },
  {
   "cell_type": "code",
   "execution_count": 29,
   "metadata": {
    "colab": {
     "base_uri": "https://localhost:8080/",
     "height": 312
    },
    "colab_type": "code",
    "id": "uQ3kFHfjbKC0",
    "outputId": "8edd2783-fc4e-4e49-eef8-a17518f0f2a1"
   },
   "outputs": [
    {
     "data": {
      "text/plain": [
       "Text(0, 0.5, 'True Positive Rate')"
      ]
     },
     "execution_count": 29,
     "metadata": {},
     "output_type": "execute_result"
    },
    {
     "data": {
      "image/png": "[encoded data removed]",
      "text/plain": [
       "<Figure size 432x288 with 1 Axes>"
      ]
     },
     "metadata": {
      "needs_background": "light"
     },
     "output_type": "display_data"
    }
   ],
   "source": [
    "plt.plot(FPR, TPR)\n",
    "plt.plot([0,1],[0,1],'--', color='black') #diagonal line\n",
    "plt.title('ROC Curve')\n",
    "plt.xlabel('False Positive Rate')\n",
    "plt.ylabel('True Positive Rate')"
   ]
  },
  {
   "cell_type": "markdown",
   "metadata": {
    "colab_type": "text",
    "id": "p2lhKapJJTPy"
   },
   "source": [
    "The Area Under the Curve (AUC) evaluates the performance of the model that produced the curve.\n",
    "\n",
    "A large AUC indicates that the model is able to differentiate the respective classes with high accuracy, while a low AUC indicates that the model makes poor, often wrong predictions. A ROC curve that lies on the diagonal indicates that the model does no better than random.\n",
    "\n",
    "From the graph, we can say that the trained model is performing well as it is able to differentiate samples of different classes and making good predictions."
   ]
  }
 ],
 "metadata": {
  "colab": {
   "collapsed_sections": [],
   "name": "Neural_Networks.ipynb",
   "provenance": []
  },
  "kernelspec": {
   "display_name": "Python 3",
   "language": "python",
   "name": "python3"
  },
  "language_info": {
   "codemirror_mode": {
    "name": "ipython",
    "version": 3
   },
   "file_extension": ".py",
   "mimetype": "text/x-python",
   "name": "python",
   "nbconvert_exporter": "python",
   "pygments_lexer": "ipython3",
   "version": "3.7.3"
  }
 },
 "nbformat": 4,
 "nbformat_minor": 1
}
